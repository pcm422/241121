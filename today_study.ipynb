{
 "cells": [
  {
   "cell_type": "markdown",
   "metadata": {},
   "source": [
    "## 1. if문이란?(if문의 기능 설명)\n",
    "\n",
    "if문이란 **특정 조건일 때 코드를 실행**하는 문법입니다.\n",
    "\n",
    "→ 조건이 주어지고 조건 뒤에 콜론(:)이 붇습니다.\n",
    "\n",
    "→ **조건을 만족하면 들여쓰기되어 쓰여진 코드가 실행**됩니다."
   ]
  },
  {
   "cell_type": "code",
   "execution_count": 1,
   "metadata": {},
   "outputs": [
    {
     "name": "stdout",
     "output_type": "stream",
     "text": [
      "if문입니다\n"
     ]
    }
   ],
   "source": [
    "if True :\n",
    "    print(\"if문입니다\")"
   ]
  },
  {
   "cell_type": "markdown",
   "metadata": {},
   "source": [
    "## 2. if문 문법과 주의사항(콜론, 들여쓰기)\n",
    "\n",
    "- if문의 조건 이후의 **if문에 속한 코드는 들여쓰기를 통해 표시**합니다.\n",
    "- 들여쓰기를 무시했을 때 오류가 발생합니다.\n",
    "- 콜론을 빼먹지 않도록 주의합시다."
   ]
  },
  {
   "cell_type": "code",
   "execution_count": 3,
   "metadata": {},
   "outputs": [],
   "source": [
    "개수 = int(input(\"붕어빵 몇개 사실껀가요? : \"))\n",
    "\n",
    "if 개수 > 3 :\n",
    "    print(\"개당 1800원 입니다.\")"
   ]
  },
  {
   "cell_type": "markdown",
   "metadata": {},
   "source": [
    "## 3. if문의 흐름(작동 원리)\n",
    "\n",
    "기본적인 **코드의 흐름은 위 → 아래로 진행**됩니다."
   ]
  },
  {
   "cell_type": "code",
   "execution_count": null,
   "metadata": {},
   "outputs": [],
   "source": [
    "개수 = int(input(\"붕어빵 몇개 사실껀가요? : \"))\n",
    "\n",
    "if 개수 > 3 :\n",
    "    print(\"개당 1800원 입니다.\")\n",
    "if 개수 <= 3 :\n",
    "    print(\"개당 2000원 입니다.\")"
   ]
  },
  {
   "cell_type": "markdown",
   "metadata": {},
   "source": [
    "## 4. if 중첩문\n",
    "\n",
    "if문 안에 다른 if문이 존재하는 문법입니다."
   ]
  },
  {
   "cell_type": "code",
   "execution_count": 4,
   "metadata": {},
   "outputs": [
    {
     "name": "stdout",
     "output_type": "stream",
     "text": [
      "의문의 숫자는 5보다 크고 15보다 작습니다\n"
     ]
    }
   ],
   "source": [
    "의문의_숫자 = 10\n",
    "\n",
    "if 의문의_숫자 > 5 :\n",
    "    if 의문의_숫자 < 15:\n",
    "        print(\"의문의 숫자는 5보다 크고 15보다 작습니다\")"
   ]
  },
  {
   "cell_type": "markdown",
   "metadata": {},
   "source": [
    "## 5. if ~ else문법과 주의사항(콜론, 들여쓰기)\n",
    "\n",
    "if문의 조건을 판별했을 때, \n",
    "\n",
    "→ True면 if문 안에 작성된 코드가 실행됩니다.\n",
    "\n",
    "→ False면 else문 안에 작성된 코드가 실행됩니다."
   ]
  },
  {
   "cell_type": "code",
   "execution_count": null,
   "metadata": {},
   "outputs": [],
   "source": [
    "개수 = int(input(\"붕어빵 몇개 사실껀가요? : \"))\n",
    "\n",
    "if 개수 > 3 :\n",
    "    print(\"개당 1800원 입니다.\")\n",
    "else :\n",
    "    print(\"개당 2000원 입니다.\")"
   ]
  },
  {
   "cell_type": "code",
   "execution_count": 11,
   "metadata": {},
   "outputs": [
    {
     "name": "stdout",
     "output_type": "stream",
     "text": [
      "True\n",
      "False\n",
      "False\n",
      "False\n",
      "True\n",
      "True\n",
      "True\n",
      "False\n",
      "False\n",
      "True\n"
     ]
    }
   ],
   "source": [
    "#True\n",
    "if True:\n",
    "\tprint(True)\n",
    "else:\n",
    "\tprint(False)\n",
    "\n",
    "#출력 True\n",
    "\t\n",
    "#False\n",
    "if False:\n",
    "\tprint(True)\n",
    "else:\n",
    "\tprint(False)\n",
    "\n",
    "#출력 False\n",
    "\t\n",
    "#None\n",
    "if None:\n",
    "\tprint(True)\n",
    "else:\n",
    "\tprint(False)\n",
    "\n",
    "#출력 False\n",
    "\n",
    "# None과 False는 실제로는 다릅니다.\n",
    "# None == 아무것도 없다.\n",
    "# False == 거짓.\n",
    "\t\n",
    "#0\n",
    "if 0:\n",
    "\tprint(True)\n",
    "else:\n",
    "\tprint(False)\n",
    "\t\n",
    "# 1 == True / 0 == False\n",
    "#출력 False\n",
    "\n",
    "#1\n",
    "if 1:\n",
    "\tprint(True)\n",
    "else:\n",
    "\tprint(False)\n",
    "\n",
    "#출력 True\n",
    "\t\n",
    "#1.1\n",
    "if 1.1:\n",
    "\tprint(True)\n",
    "else:\n",
    "\tprint(False)\n",
    "\n",
    "#출력 True\n",
    "\n",
    "#'hello'\n",
    "if 'hello':\n",
    "\tprint(True)\n",
    "else:\n",
    "\tprint(False)\n",
    "\n",
    "# 모든 문자열은 True입니다.\n",
    "#출력 True\n",
    "\n",
    "#''(빈 문자열)\n",
    "if '':\n",
    "\tprint(True)\n",
    "else:\n",
    "\tprint(False)\n",
    "\n",
    "# 문자열을 체크했을 때 비어있으면 False\n",
    "# 사용자 정보 등을 확인할 때 사용합니다.\n",
    "#출력 False\n",
    "\n",
    "#not1\n",
    "if not True:\n",
    "\tprint(True)\n",
    "else:\n",
    "\tprint(False)\n",
    "\n",
    "#출력 False\n",
    "#not2\n",
    "if not '':\n",
    "\tprint(True)\n",
    "else:\n",
    "\tprint(False)\n",
    "\n",
    "\n",
    "#출력 True"
   ]
  },
  {
   "cell_type": "markdown",
   "metadata": {},
   "source": [
    "8. 조건식 여러개 설정하기"
   ]
  },
  {
   "cell_type": "code",
   "execution_count": 12,
   "metadata": {},
   "outputs": [
    {
     "name": "stdout",
     "output_type": "stream",
     "text": [
      "동일합니다\n",
      "동일합니다\n",
      "10보다 크고 20보다 작습니다\n"
     ]
    }
   ],
   "source": [
    "a = 10\n",
    "b = 30\n",
    "\n",
    "if a == 10 and b == 30:\n",
    "    print(\"동일합니다\")\n",
    "else:\n",
    "    print(\"동일하지 않습니다\")\n",
    "    \n",
    "if a == 10 or b == 30:\n",
    "    print(\"동일합니다\")\n",
    "else:\n",
    "    print(\"동일하지 않습니다\")\n",
    "    \n",
    "if a >= 10 and a < 20:\n",
    "    print(\"10보다 크고 20보다 작습니다\")"
   ]
  },
  {
   "cell_type": "markdown",
   "metadata": {},
   "source": [
    "## 9. elif ~ if문\n",
    "\n",
    "if문 이후에 elif문을 사용하여 추가 조건을 설정할 수 있다."
   ]
  },
  {
   "cell_type": "code",
   "execution_count": null,
   "metadata": {},
   "outputs": [],
   "source": [
    "맛 = input(\"붕어빵 맛을 골라주세요(팥, 슈크림, 잡채)\")\n",
    "\n",
    "if 맛 == \"팥\":\n",
    "    print(f\"{맛}을 선택하셨습니다\")\n",
    "elif 맛 == \"슈크림\":\n",
    "    print(f\"{맛}을 선택하셨습니다\")\n",
    "else:\n",
    "    print(f\"{맛}을 선택하셨습니다\")"
   ]
  },
  {
   "cell_type": "markdown",
   "metadata": {},
   "source": [
    "이해도 체크리스트"
   ]
  },
  {
   "cell_type": "markdown",
   "metadata": {},
   "source": [
    "#문제 : 단어 a의 가운데 글자를 반환하는 함수 코드\n",
    "\n",
    "#입력 : 문자열을 입력합니다.\n",
    "\n",
    "#조건 : 단어의 길이가 짝수라면 가운데 두글자를 출력하면 됩니다.\n",
    "\n",
    "#입력값 1 : \"abcde\" => c\n",
    "#입력값 2 : \"qwer\" => we\n",
    "\n",
    "#코드를 작성해보세요!"
   ]
  },
  {
   "cell_type": "code",
   "execution_count": 27,
   "metadata": {},
   "outputs": [
    {
     "name": "stdout",
     "output_type": "stream",
     "text": [
      "df\n"
     ]
    }
   ],
   "source": [
    "a = input(\"단어를 입력하세요 : \")\n",
    "\n",
    "if len(a) % 2 == 0:\n",
    "    print(a[int(len(a) / 2)-1:int(len(a) / 2)+1])\n",
    "elif len(a) % 2 != 0:\n",
    "    print(a[int(len(a) / 2)])\n",
    "    "
   ]
  },
  {
   "cell_type": "markdown",
   "metadata": {},
   "source": [
    "문제 : 두 정수 A와 B가 주어졌을 때, A와 B를 비교하는 프로그램을 작성하세요.\n",
    "\n",
    "#입력 : 첫째 줄에 A, 둘째 줄에 B를 입력합니다.\n",
    "\n",
    "#조건 : 다음 세 가지 중 하나를 출력하세요.  \n",
    "#1. A가 B보다 큰 경우에는 '>'를 출력합니다.  \n",
    "#2. A가 B보다 작은 경우에는 '<'를 출력합니다.  \n",
    "#3. A와 B가 같은 경우에는 '=='를 출력합니다.\n",
    "\n",
    "#제한\n",
    "#-10,000 <= A, B <= 10,000\n",
    "\n",
    "#예시1\n",
    "#입력 : \n",
    "1 \n",
    "2\n",
    "#출력 : <\n",
    "\n",
    "#예시2\n",
    "#입력 : \n",
    "10 \n",
    "2\n",
    "#출력 : >\n",
    "\n",
    "#예시3\n",
    "#입력 : \n",
    "5 \n",
    "5\n",
    "#출력 : =="
   ]
  },
  {
   "cell_type": "code",
   "execution_count": 30,
   "metadata": {},
   "outputs": [
    {
     "name": "stdout",
     "output_type": "stream",
     "text": [
      "==\n"
     ]
    }
   ],
   "source": [
    "A = int(input(\"A 정수를 입력하세요 : \"))\n",
    "B = int(input(\"B 정수를 입력하세요 : \"))\n",
    "\n",
    "if A -10000 <= A and B <= 10000:\n",
    "    if A > B:\n",
    "        print(\">\")\n",
    "    elif A < B:\n",
    "        print(\"<\")\n",
    "    else:\n",
    "        print(\"==\")"
   ]
  },
  {
   "cell_type": "markdown",
   "metadata": {},
   "source": [
    "#문제 : 시험 점수를 입력받아 90 ~ 100점은 A, 80 ~ 89점은 B, 70 ~ 79점은 C, 60 ~ 69점은 D,\n",
    "#나머지 점수는 F를 출력하는 프로그램을 작성하세요.\n",
    "\n",
    "#입력 : 첫째 줄에 시험 점수를 입력한다. 0 <= 시험점수 <= 100 (정수)\n",
    "\n",
    "#출력 : 성적에 따른 등급 A ~ F\n",
    "\n",
    "#예시1  \n",
    "#입력 : \n",
    "100\n",
    "\n",
    "#출력 : \n",
    "A"
   ]
  },
  {
   "cell_type": "code",
   "execution_count": 36,
   "metadata": {},
   "outputs": [
    {
     "name": "stdout",
     "output_type": "stream",
     "text": [
      "A 입니다\n"
     ]
    }
   ],
   "source": [
    "test_score = int(input(\"시험점수를 입력하세요 : \"))\n",
    "\n",
    "if test_score >= 90 and test_score <= 100:\n",
    "    print(\"A 입니다\")\n",
    "elif test_score >= 80 and test_score < 90:\n",
    "    print(\"B 입니다\")\n",
    "elif test_score >= 70 and test_score < 80:\n",
    "    print(\"C 입니다\")\n",
    "elif test_score >= 60 and test_score < 70:\n",
    "    print(\"D 입니다\")\n",
    "else:\n",
    "    print(\"F 입니다\")"
   ]
  },
  {
   "cell_type": "markdown",
   "metadata": {},
   "source": [
    "## . for문(반복문)이란?\n",
    "\n",
    "프로그래밍 언어에서 **반복되는 작업을 간단하게 처리**하게 위해서 사용하는 기능입니다.\n",
    "\n",
    "## 2. for문 문법과 주의사항(콜론, 들여쓰기)\n",
    "→ 들여쓰기를 기준으로 코드 블록이 구성됩니다."
   ]
  },
  {
   "cell_type": "code",
   "execution_count": 37,
   "metadata": {},
   "outputs": [
    {
     "name": "stdout",
     "output_type": "stream",
     "text": [
      "반복되네 신기하네\n",
      "반복되네 신기하네\n",
      "반복되네 신기하네\n",
      "반복되네 신기하네\n",
      "반복되네 신기하네\n"
     ]
    }
   ],
   "source": [
    "for i in range(5):\n",
    "    print(\"반복되네 신기하네\")"
   ]
  },
  {
   "cell_type": "markdown",
   "metadata": {},
   "source": [
    "## 4. for문 작동원리\n",
    "\n",
    "1. **for문의 흐름은 range부터 시작**이 됩니다.\n",
    "2. **range에서 범위에 해당되는 숫자를 생성하고, 반복 횟수를 정해줍니다.**\n",
    "3. **만들어진 숫자는 i에 호출**이 됩니다.\n",
    "4. **for문의 코드가 실행**이 됩니다.\n",
    "5. range에서 **생성한 범위가 끝나지 않았으면, 다음 반복을 실행**합니다."
   ]
  },
  {
   "cell_type": "code",
   "execution_count": 38,
   "metadata": {},
   "outputs": [
    {
     "name": "stdout",
     "output_type": "stream",
     "text": [
      "반복되네 신기하네 0\n",
      "반복되네 신기하네 1\n",
      "반복되네 신기하네 2\n",
      "반복되네 신기하네 3\n",
      "반복되네 신기하네 4\n"
     ]
    }
   ],
   "source": [
    "for i in range(5):\n",
    "    print(f\"반복되네 신기하네 {i}\")"
   ]
  },
  {
   "cell_type": "markdown",
   "metadata": {},
   "source": [
    "5. for문에서 range()함수 활용하기"
   ]
  },
  {
   "cell_type": "code",
   "execution_count": 46,
   "metadata": {},
   "outputs": [
    {
     "name": "stdout",
     "output_type": "stream",
     "text": [
      "4\n",
      "5\n",
      "6\n",
      "7\n",
      "8\n",
      "9\n",
      "4\n",
      "6\n",
      "8\n",
      "10\n",
      "9\n",
      "8\n",
      "7\n",
      "6\n",
      "5\n",
      "9\n",
      "8\n",
      "7\n",
      "6\n",
      "5\n",
      "4\n",
      "3\n",
      "2\n",
      "1\n",
      "0\n"
     ]
    }
   ],
   "source": [
    "for i in range(4, 10):\n",
    "    print(i)\n",
    "\n",
    "for i in range(4, 10, 2):\n",
    "    print(i)\n",
    "\n",
    "for i in range(10, 4, -1):\n",
    "    print(i)\n",
    "    \n",
    "for i in reversed(range(10)):\n",
    "    print(i)"
   ]
  },
  {
   "cell_type": "markdown",
   "metadata": {},
   "source": [
    "6. for문에서 시퀀스 객체로 반복하기"
   ]
  },
  {
   "cell_type": "code",
   "execution_count": 51,
   "metadata": {},
   "outputs": [
    {
     "name": "stdout",
     "output_type": "stream",
     "text": [
      "두리안\n",
      "망고\n",
      "바나나\n",
      "멜론\n",
      "닥\n",
      "스\n",
      "훈\n",
      "트\n",
      "닥스훈트\n",
      "트훈스닥"
     ]
    }
   ],
   "source": [
    "# 리스트 요소 출력하기\n",
    "과일 = [\"두리안\", \"망고\", \"바나나\", \"멜론\"]\n",
    "\n",
    "for i in 과일:\n",
    "    print(i)\n",
    "    \n",
    "for i in \"닥스훈트\":\n",
    "    print(i)\n",
    "    \n",
    "for i in \"닥스훈트\":\n",
    "    print(i, end=\"\")\n",
    "    \n",
    "print()\n",
    "    \n",
    "for i in reversed(\"닥스훈트\"):\n",
    "    print(i, end=\"\")"
   ]
  },
  {
   "cell_type": "markdown",
   "metadata": {},
   "source": [
    "이해도 체크리스트"
   ]
  },
  {
   "cell_type": "markdown",
   "metadata": {},
   "source": [
    "#문제 : 두 줄에 걸쳐 \"OZ 코딩스쿨\"을 출력하세요."
   ]
  },
  {
   "cell_type": "code",
   "execution_count": 52,
   "metadata": {},
   "outputs": [
    {
     "name": "stdout",
     "output_type": "stream",
     "text": [
      "OZ 코딩스쿨\n",
      "OZ 코딩스쿨\n"
     ]
    }
   ],
   "source": [
    "oz = \"OZ 코딩스쿨\"\n",
    "for i in range(2):\n",
    "    print(oz)"
   ]
  },
  {
   "cell_type": "markdown",
   "metadata": {},
   "source": [
    "#문제 : 절대값 정수가 담긴 정수 변수와 그 정수의 부호를 차례로 담은 부호 변수가 있습니다.  \n",
    "#두 변수를 이용해 실제 정수의 합을 구해주세요 (True : 양수, False : 음수)\n",
    "\n",
    "정수 = [10, 5, 8]  \n",
    "부호 = [True, False, True]"
   ]
  },
  {
   "cell_type": "code",
   "execution_count": 53,
   "metadata": {},
   "outputs": [
    {
     "name": "stdout",
     "output_type": "stream",
     "text": [
      "합은 : 13\n"
     ]
    }
   ],
   "source": [
    "부호 = [True, False, True]\n",
    "정수 = [10, 5, 8]\n",
    "합 = 0\n",
    "\n",
    "for a, b in zip(부호, 정수):\n",
    "    if a:\n",
    "        합 += b\n",
    "    else:\n",
    "        합 -= b\n",
    "        \n",
    "print(f\"합은 : {합}\")"
   ]
  },
  {
   "cell_type": "markdown",
   "metadata": {},
   "source": [
    "#별(*)\n",
    "\n",
    "#문제 : 첫째 줄에는 별 1개, 둘째 줄에는 별 2개, N번째 줄에는 별 N개를 찍으세요.\n",
    "\n",
    "#입력 : 첫째 줄에 N(1 <= N <= 100)이 주어집니다.\n",
    "\n",
    "#출력 : 첫째 줄부터 N번째 줄까지 차례대로 별(*)을 출력합니다.\n",
    "\n",
    "#예시1  \n",
    "#입력 :   \n",
    "2  \n",
    "#출력 :  \n",
    "*  \n",
    "**  "
   ]
  },
  {
   "cell_type": "code",
   "execution_count": 63,
   "metadata": {},
   "outputs": [
    {
     "name": "stdout",
     "output_type": "stream",
     "text": [
      "*\n",
      "**\n",
      "***\n",
      "****\n",
      "*****\n"
     ]
    }
   ],
   "source": [
    "number = int(input(\"1부터 100 까지의 숫자를 입력하세요 : \"))\n",
    "\n",
    "for i in range(1, (number + 1)):\n",
    "    print(\"*\" * i)"
   ]
  },
  {
   "cell_type": "code",
   "execution_count": null,
   "metadata": {},
   "outputs": [],
   "source": [
    "#별(*)\n",
    "\n",
    "#문제 : 예제를 보고 규칙을 유추한 뒤에 별을 찍어보세요.\n",
    "\n",
    "#입력 : 첫째 줄에 N(1 <= N <= 100)이 주어집니다.\n",
    "\n",
    "#출력 : 첫째 줄부터 2 * N - 1번째 줄까지 차례대로 별을 출력합니다.\n",
    "\n",
    "#예시1\n",
    "#입력 : 5\n",
    "\n",
    "\"\"\"\n",
    "#출력 :\n",
    "    *\n",
    "   ***\n",
    "  *****\n",
    " *******\n",
    "*********\n",
    " *******\n",
    "  *****\n",
    "   ***\n",
    "    * \n",
    "\"\"\""
   ]
  },
  {
   "cell_type": "code",
   "execution_count": 70,
   "metadata": {},
   "outputs": [
    {
     "name": "stdout",
     "output_type": "stream",
     "text": [
      "    *\n",
      "   ***\n",
      "  *****\n",
      " *******\n",
      "*********\n",
      " *******\n",
      "  *****\n",
      "   ***\n",
      "    *\n"
     ]
    }
   ],
   "source": [
    "number = int(input(\"1부터 100 까지의 숫자를 입력하세요 : \"))\n",
    "\n",
    "for i in range(1, number):\n",
    "    print(' ' * (number - i) + '*' * (2 * i - 1))\n",
    "for i in range(number, 0, -1):\n",
    "    print(' ' * (number - i) + '*' * (2 * i - 1))"
   ]
  },
  {
   "cell_type": "markdown",
   "metadata": {},
   "source": [
    "1.  While문 만들어보기"
   ]
  },
  {
   "cell_type": "code",
   "execution_count": 71,
   "metadata": {},
   "outputs": [
    {
     "name": "stdout",
     "output_type": "stream",
     "text": [
      "점점 성장하는 여러부~~~ㄴ\n",
      "점점 성장하는 여러부~~~ㄴ\n",
      "점점 성장하는 여러부~~~ㄴ\n",
      "점점 성장하는 여러부~~~ㄴ\n",
      "점점 성장하는 여러부~~~ㄴ\n",
      "점점 성장하는 여러부~~~ㄴ\n",
      "점점 성장하는 여러부~~~ㄴ\n",
      "점점 성장하는 여러부~~~ㄴ\n",
      "점점 성장하는 여러부~~~ㄴ\n",
      "점점 성장하는 여러부~~~ㄴ\n"
     ]
    }
   ],
   "source": [
    "i = 0\n",
    "\n",
    "while i < 10:\n",
    "\tprint('점점 성장하는 여러부~~~ㄴ')\n",
    "\ti += 1"
   ]
  },
  {
   "cell_type": "markdown",
   "metadata": {},
   "source": [
    "2. While문 코드의 흐름  \n",
    "while문에 존재하는 조건이 false가 될 때까지 들여쓰기 내에 있는 코드가 반복됩니다."
   ]
  },
  {
   "cell_type": "markdown",
   "metadata": {},
   "source": [
    "3. While문 조건식 증감"
   ]
  },
  {
   "cell_type": "code",
   "execution_count": 75,
   "metadata": {},
   "outputs": [
    {
     "name": "stdout",
     "output_type": "stream",
     "text": [
      "이정도로 성장할줄이야 1\n",
      "이정도로 성장할줄이야 2\n",
      "이정도로 성장할줄이야 3\n",
      "이정도로 성장할줄이야 4\n",
      "이정도로 성장할줄이야 5\n",
      "이정도로 성장할줄이야 6\n",
      "이정도로 성장할줄이야 7\n",
      "이정도로 성장할줄이야 8\n",
      "이정도로 성장할줄이야 9\n",
      "이정도로 성장할줄이야 10\n",
      "이정도로 성장할줄이야 9\n",
      "이정도로 성장할줄이야 8\n",
      "이정도로 성장할줄이야 7\n",
      "이정도로 성장할줄이야 6\n",
      "이정도로 성장할줄이야 5\n",
      "이정도로 성장할줄이야 4\n",
      "이정도로 성장할줄이야 3\n",
      "이정도로 성장할줄이야 2\n",
      "이정도로 성장할줄이야 1\n"
     ]
    }
   ],
   "source": [
    "#1. 증가 유형\n",
    "\n",
    "i = 1\n",
    "\n",
    "while i < 10:\n",
    "\tprint('이정도로 성장할줄이야', i)\n",
    "\ti += 1\n",
    "\n",
    "#2. 감소 유형\n",
    "\n",
    "while i > 0:\n",
    "\tprint('이정도로 성장할줄이야', i)\n",
    "\ti -= 1\n",
    " "
   ]
  },
  {
   "cell_type": "markdown",
   "metadata": {},
   "source": [
    "4. While문을 조심스럽게 사용해야하는 이유"
   ]
  },
  {
   "cell_type": "code",
   "execution_count": null,
   "metadata": {},
   "outputs": [],
   "source": [
    "# 무한 반복문 실행 x\n",
    "while True:\n",
    "\tprint(1)"
   ]
  },
  {
   "cell_type": "markdown",
   "metadata": {},
   "source": [
    "**조건이 잘못 설정되면 무한 루프에 빠져 과도한 리소스를 소모**합니다.\n",
    "\n",
    "하지만, **잘 사용하면 for문 보다 효율적**입니다."
   ]
  },
  {
   "cell_type": "markdown",
   "metadata": {},
   "source": [
    "## 5. While문이 for문보다 강점인 부분\n",
    "\n",
    "**특정 조건이 나올 때까지 무수히 실행하는 경우**, for문보다 유리합니다."
   ]
  },
  {
   "cell_type": "code",
   "execution_count": 81,
   "metadata": {},
   "outputs": [
    {
     "name": "stdout",
     "output_type": "stream",
     "text": [
      "5\n",
      "3\n",
      "1\n",
      "6\n",
      "6\n",
      "2\n",
      "6\n",
      "1\n",
      "2\n",
      "5\n",
      "5\n",
      "4\n"
     ]
    }
   ],
   "source": [
    "import random\n",
    "\n",
    "i = 0\n",
    "\n",
    "while i != 4:\n",
    "    i = random.randint(1, 6)\n",
    "    print(i)"
   ]
  },
  {
   "cell_type": "markdown",
   "metadata": {},
   "source": [
    "6. while문에도 else가 있어요~!!"
   ]
  },
  {
   "cell_type": "code",
   "execution_count": 83,
   "metadata": {},
   "outputs": [
    {
     "name": "stdout",
     "output_type": "stream",
     "text": [
      "양파 11 개 남았습니다.\n",
      "양파 다 팔렸습니다.\n"
     ]
    }
   ],
   "source": [
    "양파 = 11\n",
    "\n",
    "while 양파 > 10:\n",
    "\tprint(\"양파\", 양파, \"개 남았습니다.\")\n",
    "\tif 양파 ==0:\n",
    "\t\tbreak\n",
    "\t양파 -= 1\n",
    "\t\n",
    "else:\n",
    "\tprint(\"양파 다 팔렸습니다.\")"
   ]
  },
  {
   "cell_type": "markdown",
   "metadata": {},
   "source": [
    "7. 반복문의 흐름을 제어하는 continue와 break"
   ]
  },
  {
   "cell_type": "code",
   "execution_count": 84,
   "metadata": {},
   "outputs": [
    {
     "name": "stdout",
     "output_type": "stream",
     "text": [
      "0\n",
      "1\n",
      "2\n",
      "3\n",
      "4\n",
      "5\n",
      "6\n",
      "7\n",
      "8\n",
      "9\n"
     ]
    }
   ],
   "source": [
    "i = 0\n",
    "\n",
    "while True:\n",
    "\tprint(i)\n",
    "\t\n",
    "\ti += 1\n",
    "\t\n",
    "\tif i == 10:\n",
    "\t\tbreak"
   ]
  },
  {
   "cell_type": "code",
   "execution_count": 85,
   "metadata": {},
   "outputs": [
    {
     "name": "stdout",
     "output_type": "stream",
     "text": [
      "0\n",
      "1\n",
      "2\n",
      "3\n",
      "4\n",
      "5\n",
      "6\n",
      "7\n",
      "8\n",
      "9\n",
      "10\n"
     ]
    }
   ],
   "source": [
    "i = 0\n",
    "\n",
    "for i in range(100):\n",
    "    print(i)\n",
    "    if i == 10:\n",
    "        break"
   ]
  },
  {
   "cell_type": "code",
   "execution_count": 86,
   "metadata": {},
   "outputs": [
    {
     "name": "stdout",
     "output_type": "stream",
     "text": [
      "1\n",
      "3\n",
      "5\n",
      "7\n",
      "9\n"
     ]
    }
   ],
   "source": [
    "i = 0\n",
    "\n",
    "while i < 10:\n",
    "    i += 1\n",
    "    if i% 2 == 0:\n",
    "        continue\n",
    "    print(i)"
   ]
  },
  {
   "cell_type": "code",
   "execution_count": 87,
   "metadata": {},
   "outputs": [
    {
     "name": "stdout",
     "output_type": "stream",
     "text": [
      "1\n",
      "3\n",
      "5\n",
      "7\n",
      "9\n"
     ]
    }
   ],
   "source": [
    "i = 0\n",
    "\n",
    "for i in range(10):\n",
    "    if i% 2 == 0:\n",
    "        continue\n",
    "    print(i)"
   ]
  },
  {
   "cell_type": "markdown",
   "metadata": {},
   "source": [
    "8. 붕어빵 인터네셔널은 내가 살린다 나도 이제 개발자"
   ]
  },
  {
   "cell_type": "code",
   "execution_count": 89,
   "metadata": {},
   "outputs": [
    {
     "name": "stdout",
     "output_type": "stream",
     "text": [
      "주문이 완료되었습니다. 붕어빵(슈크림)2개, 붕어빵(잡채)3개 총 5개 결제 금액은 14000원 입니다.\n"
     ]
    }
   ],
   "source": [
    "fish__p, fish__s, fish__j = \"붕어빵(팥)\", \"붕어빵(슈크림)\", \"붕어빵(잡채)\"\n",
    "fish__p__sell, fish__s__sell, fish__j__sell = 2000, 2500, 3000\n",
    "order_s, order_j = 2, 3\n",
    "order_s__pay, order_j__pay = fish__s__sell * 2, fish__j__sell * 3\n",
    "total = order_s + order_j\n",
    "total_pay = order_s__pay + order_j__pay\n",
    "\n",
    "print(f'주문이 완료되었습니다. {fish__s}{order_s}개, {fish__j}{order_j}개 총 {total}개 결제 금액은 {total_pay}원 입니다.')"
   ]
  },
  {
   "cell_type": "markdown",
   "metadata": {},
   "source": [
    "이해도 체크리스트"
   ]
  },
  {
   "cell_type": "code",
   "execution_count": null,
   "metadata": {},
   "outputs": [],
   "source": [
    "#문제 : 콜라츠하는 사람은 주어진 수가 1이 될때까지 다음 작업을 반복하면, 모든 수를 1로 만들 수 있다고 추측했습니다.\n",
    "\n",
    "#작업\n",
    "#1-1. 입력된 수가 짝수라면 2로 나눈다.\n",
    "#1-2. 입력된 수가 홀수라면 3을 곱하고 1을 더한다.\n",
    "#1-3. 위 결과로 나온 수에 같은 작업을 1이 될 때까지 반복한다.\n",
    "#ex) 입력 6 -> 3 -> 10 -> 5 -> 16 -> 8 -> 4 -> 2 -> 1\n",
    "\n",
    "#num변수에 있는 수를 1로 만드는데 몇번이나 작업을 반복해야하는지 출력하세요."
   ]
  },
  {
   "cell_type": "code",
   "execution_count": null,
   "metadata": {},
   "outputs": [
    {
     "name": "stdout",
     "output_type": "stream",
     "text": [
      "6\n",
      "3\n",
      "10\n",
      "5\n",
      "16\n",
      "8\n",
      "4\n",
      "2\n",
      "1\n",
      "8회 반복했습니다.\n"
     ]
    }
   ],
   "source": [
    "num = int(input(\"숫자를 입력하세요 : \"))\n",
    "print(num)\n",
    "number = 0\n",
    "\n",
    "while True:    \n",
    "    if num % 2 == 0:\n",
    "        num = int(num / 2)\n",
    "    else:\n",
    "        num = int(num * 3 + 1)   \n",
    "    print(num) \n",
    "    number+=1\n",
    "    if num == 1:\n",
    "        break\n",
    "    \n",
    "print(f\"{number}회 반복했습니다.\")"
   ]
  },
  {
   "cell_type": "markdown",
   "metadata": {},
   "source": [
    "#A와 B를 한번에 입력받는 것은\n",
    "#A, B = map(int, input().split()) 을 사용하시면 됩니다.\n",
    "\n",
    "#문제 : 두 정수 A와 B를 입력받은 다음, A + B를 출력하는 코드를 작성하세요.\n",
    "\n",
    "#입력 : 입력은 여러 개의 테스트 케이스로 이루어져 있습니다.\n",
    "#각 테스트 케이스는 한줄로 이루어져 있으며, 각 줄에 A와 B가 주어집니다.(0 < A, B < 10)\n",
    "#입력의 마지막에는 0 두 개가 들어옵니다.\n",
    "\n",
    "#출력 : 각 테스트 케이스마다 A + B를 출력하세요.\n",
    "\n",
    "#예시1  \n",
    "#입력 :  \n",
    "1 1  \n",
    "2 3  \n",
    "3 4  \n",
    "9 8  \n",
    "5 2  \n",
    "0 0  \n",
    "\n",
    "#출력 :  \n",
    "2  \n",
    "5  \n",
    "7  \n",
    "17  \n",
    "7"
   ]
  },
  {
   "cell_type": "code",
   "execution_count": 95,
   "metadata": {},
   "outputs": [
    {
     "name": "stdout",
     "output_type": "stream",
     "text": [
      "2\n",
      "5\n",
      "7\n",
      "17\n",
      "7\n"
     ]
    }
   ],
   "source": [
    "while True:\n",
    "    A, B = map(int, input().split())\n",
    "    if A == 0 and B == 0:\n",
    "        break\n",
    "    print(A + B)\n",
    "\n",
    "\n"
   ]
  },
  {
   "cell_type": "markdown",
   "metadata": {},
   "source": [
    "문제 : 0보다 크거나 같고, 99보다 작거나 같은 정수가 주어질 때 다음과 같은 연산을 할 수 있습니다.  \n",
    "#먼저 주어진 수가 10보다 작다면 앞에 0을 붙여 두 자리 수로 만들고, 각 자리의 숫자를 더합니다.  \n",
    "#그 다음, 주어진 수의 가장 오른쪽 자리 수와 앞에서 구한 합의 가장 오른쪽 자리 수를 이어 붙이면 새로운 수를 만들 수 있습니다.  \n",
    "#ex) 26 -> 2 + 6 = 8 -> 68 -> 6 + 8 = 14 -> 84 -> 8 + 4 = 12  \n",
    "#-> 42 -> 4 + 2 = 6 -> 26  \n",
    "#4번만에 원래 수로 돌아왔기 때문에 사이클의 길이는 4가 됩니다.  \n",
    "#숫자 N이 주어졌을 때, N의 사이클의 길이를 구하는 프로그램을 작성하세요.  \n",
    "#0 <= N <= 99  \n",
    "\n",
    "#예시1  \n",
    "#입력 :\n",
    "26\n",
    "\n",
    "#출력 :\n",
    "4\n",
    "\n",
    "#예시2  \n",
    "#입력 : \n",
    "55\n",
    "\n",
    "#출력 :\n",
    "3\n",
    "\n",
    "#예시3  \n",
    "#입력 : \n",
    "1\n",
    "\n",
    "#출력 :\n",
    "60"
   ]
  },
  {
   "cell_type": "code",
   "execution_count": 107,
   "metadata": {},
   "outputs": [
    {
     "name": "stdout",
     "output_type": "stream",
     "text": [
      "60\n"
     ]
    }
   ],
   "source": [
    "num = int(input(\"0이상 99이하의 숫자를 입력하세요 : \"))\n",
    "num2 = num\n",
    "number = 0\n",
    "\n",
    "while True:\n",
    "    num = ((num % 10) * 10) + (((num // 10) + (num % 10)) % 10)\n",
    "    number+=1\n",
    "    if num == num2:\n",
    "        break\n",
    "    \n",
    "print(number)"
   ]
  }
 ],
 "metadata": {
  "kernelspec": {
   "display_name": "Python 3",
   "language": "python",
   "name": "python3"
  },
  "language_info": {
   "codemirror_mode": {
    "name": "ipython",
    "version": 3
   },
   "file_extension": ".py",
   "mimetype": "text/x-python",
   "name": "python",
   "nbconvert_exporter": "python",
   "pygments_lexer": "ipython3",
   "version": "3.11.9"
  }
 },
 "nbformat": 4,
 "nbformat_minor": 2
}

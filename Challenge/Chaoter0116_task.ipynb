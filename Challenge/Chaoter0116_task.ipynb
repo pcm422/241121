{
 "cells": [
  {
   "cell_type": "markdown",
   "metadata": {
    "id": "BX7SgOeWu86I"
   },
   "source": [
    "안녕하세요. 수강생 여러분~! \n",
    "\n",
    "다시 돌아온 조금 더 성장할 기 ! 회 ! \n",
    "\n",
    "Chapter01 ~ 16의 수업 내용을 바탕으로 아래 문제를 풀어주시면 됩니다 !\n",
    "\n",
    "지금까지 잘 해오셨으니까, 총 복습한다고 생각하시고 한번 도전해보세요 !!!\n",
    "\n",
    "차근 차근 문제와 요구사항을 읽고 작성해보세요.\n",
    "\n",
    "<br>\n",
    "\n",
    "\n",
    "[**답변 입력 방법**]\n",
    "\n",
    "문제 아래에 있는 코드 입력창에 정답코드를 작성하신 후  __▷ 버튼을 클릭해 코드를 실행__ 해보세요<br>"
   ]
  },
  {
   "cell_type": "markdown",
   "metadata": {},
   "source": [
    "---"
   ]
  },
  {
   "cell_type": "markdown",
   "metadata": {},
   "source": [
    "#### 프로젝트: 붕어빵 자동 판매 시스템\n",
    "\n",
    "\n",
    "당신은 붕어빵 가게의 주인입니다. \n",
    "\n",
    "손님들이 붕어빵을 주문하면 이를 자동으로 처리하고, 재고를 관리하는 시스템을 만들고자 합니다. \n",
    "\n",
    "또한, 관리자 모드를 통해 재고를 추가할 수 있는 기능을 구현해야 합니다.\n"
   ]
  },
  {
   "cell_type": "markdown",
   "metadata": {},
   "source": [
    "__[문제 1: 붕어빵 재고 확인]__\n",
    "\n",
    "붕어빵 가게의 현재 재고를 확인하는 기능을 구현하세요.\n",
    "\n",
    "요구사항:\n",
    "- 현재 붕어빵의 재고를 딕셔너리로 관리합니다.\n",
    "- 딕셔너리에는 붕어빵의 종류와 각각의 재고 개수가 저장됩니다.\n",
    "- 현재 재고를 화면에 출력하세요.\n",
    "\n",
    "붕어빵 재고\n",
    "- 팥붕어빵 : 10개\n",
    "- 슈크림붕어빵 : 8개\n",
    "- 초코붕어빵 : 5개"
   ]
  },
  {
   "cell_type": "code",
   "execution_count": 3,
   "metadata": {},
   "outputs": [
    {
     "name": "stdout",
     "output_type": "stream",
     "text": [
      "현재 재고는 {'팥붕어빵': 10, '슈크림붕어빵': 8, '초코붕어빵': 5}\n"
     ]
    }
   ],
   "source": [
    "stock = {\n",
    "    \"팥붕어빵\" : 10,\n",
    "    \"슈크림붕어빵\" : 8,\n",
    "    \"초코붕어빵\" : 5}\n",
    "\n",
    "print(f\"현재 재고는 {stock}\")"
   ]
  },
  {
   "cell_type": "markdown",
   "metadata": {},
   "source": [
    "__[문제 2: 붕어빵 주문 받기]__\n",
    "\n",
    "손님이 주문한 붕어빵의 종류와 개수를 입력받는 기능을 구현하세요.\n",
    "\n",
    "요구사항:\n",
    "- 손님이 주문할 붕어빵의 종류와 개수를 입력받습니다.\n",
    "- 주문 내용을 딕셔너리에 저장하세요.\n",
    "- 주문 내역을 출력해주세요."
   ]
  },
  {
   "cell_type": "code",
   "execution_count": null,
   "metadata": {},
   "outputs": [
    {
     "name": "stdout",
     "output_type": "stream",
     "text": [
      "현재 주문 내역은 {'팥붕어빵': 5}\n"
     ]
    }
   ],
   "source": [
    "order = {}\n",
    "kind = input(\"주문할 붕어빵을 골라주세요(팥붕어빵, 슈크림붕어빵, 초코붕어빵) : \")\n",
    "count = int(input(\"주문할 갯수를 입력해주세요\"))\n",
    "order[kind] = count\n",
    "\n",
    "print(f\"현재 주문 내역은 {order}\")"
   ]
  },
  {
   "cell_type": "markdown",
   "metadata": {},
   "source": [
    "__[문제 3: 붕어빵 주문 처리]__\n",
    "\n",
    "손님의 주문을 처리하여 붕어빵 재고를 업데이트하는 기능을 구현하세요.\n",
    "\n",
    "요구사항:\n",
    "- 손님의 주문 내용을 기반으로 재고를 업데이트합니다.\n",
    "- 재고가 부족할 경우, 손님에게 재고 부족을 알리고 재고를 감소시키지 않습니다.\n",
    "- 재고가 충분할 경우, 주문한 만큼 재고를 감소시키고 판매를 완료합니다.\n",
    "- 판매가 완료된 경우 판매된 붕어빵 맛과 개수를 출력하세요."
   ]
  },
  {
   "cell_type": "code",
   "execution_count": 5,
   "metadata": {},
   "outputs": [
    {
     "name": "stdout",
     "output_type": "stream",
     "text": [
      "팥붕어빵 5개를 판매했습니다.\n"
     ]
    }
   ],
   "source": [
    "if stock[kind] >= count:\n",
    "    stock[kind] -= count\n",
    "    print(f\"{kind} {count}개를 판매했습니다.\")\n",
    "else:\n",
    "    print(f\"죄송합니다. {kind} 재고가 부족합니다.\")"
   ]
  },
  {
   "cell_type": "markdown",
   "metadata": {},
   "source": [
    "__[문제 4: 여러 손님 주문 처리]__\n",
    "\n",
    "여러 손님들의 주문을 처리할 수 있도록 시스템을 확장하세요.\n",
    "\n",
    "요구사항:\n",
    "- 손님이 \"종료\"를 입력할 때까지 주문을 계속 받습니다.\n",
    "- 각 주문마다 재고를 업데이트합니다.\n",
    "- 현재 재고를 화면에 출력합니다."
   ]
  },
  {
   "cell_type": "code",
   "execution_count": null,
   "metadata": {},
   "outputs": [
    {
     "name": "stdout",
     "output_type": "stream",
     "text": [
      "초코붕어빵 1개를 판매했습니다.\n",
      "현재 재고는 {'팥붕어빵': 5, '슈크림붕어빵': 8, '초코붕어빵': 4}\n"
     ]
    }
   ],
   "source": [
    "while True:\n",
    "    kind = input(\"주문할 붕어빵을 골라주세요(팥붕어빵, 슈크림붕어빵, 초코붕어빵), 끄려면 종료를 입력하세요 : \")\n",
    "    if kind == \"종료\":\n",
    "        break\n",
    "    count = int(input(\"주문할 갯수를 입력해주세요\"))\n",
    "    \n",
    "    if stock[kind] >= count:\n",
    "        stock[kind] -= count\n",
    "        print(f\"{kind} {count}개를 판매했습니다.\")\n",
    "    else:\n",
    "        print(f\"죄송합니다. {kind} 재고가 부족합니다.\")\n",
    "        \n",
    "    print(f\"현재 재고는 {stock}\")"
   ]
  },
  {
   "cell_type": "markdown",
   "metadata": {},
   "source": [
    "__[문제 5: 관리자 모드]__\n",
    "\n",
    "관리자 모드를 통해 붕어빵 재고를 추가할 수 있는 기능을 구현하세요.\n",
    "\n",
    "요구사항:\n",
    "- 관리자는 특정 붕어빵의 재고를 추가할 수 있습니다.\n",
    "- \"종료\"를 입력하면 관리자 모드를 종료합니다.\n",
    "- 추가된 재고를 업데이트하고 현재 재고를 화면에 출력합니다."
   ]
  },
  {
   "cell_type": "code",
   "execution_count": 7,
   "metadata": {},
   "outputs": [
    {
     "name": "stdout",
     "output_type": "stream",
     "text": [
      "현재 재고는 {'팥붕어빵': 15, '슈크림붕어빵': 8, '초코붕어빵': 4}\n"
     ]
    }
   ],
   "source": [
    "while True:\n",
    "    kind = input(\"추가할 붕어빵을 골라주세요(팥붕어빵, 슈크림붕어빵, 초코붕어빵), 끄려면 종료를 입력하세요 : \")\n",
    "    if kind == \"종료\":\n",
    "        break\n",
    "    count = int(input(\"추가할 갯수를 입력해주세요\"))\n",
    "    stock[kind] += count\n",
    "    \n",
    "    print(f\"현재 재고는 {stock}\")"
   ]
  },
  {
   "cell_type": "markdown",
   "metadata": {},
   "source": [
    "__[문제 6: 매출 확인]__\n",
    "\n",
    "붕어빵 판매 가격을 설정하고, 판매한 붕어빵의 매출을 계산하세요.\n",
    "\n",
    "요구사항:\n",
    "- 각 붕어빵의 가격을 딕셔너리로 관리합니다.\n",
    "- 판매된 붕어빵의 종류와 개수를 딕셔너리로 관리합니다.\n",
    "- 총 매출을 계산하여 출력합니다.\n",
    "\n",
    "초기 설정:\n",
    "- 가격\n",
    "    - \"팥붕어빵\": 1000\n",
    "    - \"슈크림붕어빵\": 1200\n",
    "    - \"초코붕어빵\": 1500\n",
    "\n",
    "- 판매 개수\n",
    "    - \"팥붕어빵\": 0\n",
    "    - \"슈크림붕어빵\": 0\n",
    "    - \"초코붕어빵\": 0"
   ]
  },
  {
   "cell_type": "code",
   "execution_count": 16,
   "metadata": {},
   "outputs": [
    {
     "name": "stdout",
     "output_type": "stream",
     "text": [
      "총 매출은 0원 입니다.\n"
     ]
    }
   ],
   "source": [
    "price = {\"팥붕어빵\" : 1000,\n",
    "         \"슈크림붕어빵\" : 1200,\n",
    "         \"초코붕어빵\" : 1500}\n",
    "sale = {\"팥붕어빵\" : 0,\n",
    "         \"슈크림붕어빵\" : 0,\n",
    "         \"초코붕어빵\" : 0}\n",
    "\n",
    "salesum = 0\n",
    "for i, y in sale.items():\n",
    "    salesum += price[i] * y\n",
    "    \n",
    "print(f\"총 매출은 {salesum}원 입니다.\")"
   ]
  },
  {
   "cell_type": "markdown",
   "metadata": {},
   "source": [
    "# 위의 코드를 한번에 작동하도록 합쳐봤습니다"
   ]
  },
  {
   "cell_type": "code",
   "execution_count": null,
   "metadata": {},
   "outputs": [
    {
     "name": "stdout",
     "output_type": "stream",
     "text": [
      "현재 재고는 {'팥붕어빵': 10, '슈크림붕어빵': 8, '초코붕어빵': 5}\n",
      "현재 재고는 {'팥붕어빵': 20, '슈크림붕어빵': 8, '초코붕어빵': 5}\n",
      "팥붕어빵 15개를 판매했습니다.\n",
      "현재 재고는 {'팥붕어빵': 5, '슈크림붕어빵': 8, '초코붕어빵': 5}\n",
      "현재 재고는 {'팥붕어빵': 5, '슈크림붕어빵': 8, '초코붕어빵': 15}\n",
      "현재 재고는 {'팥붕어빵': 5, '슈크림붕어빵': 18, '초코붕어빵': 15}\n",
      "슈크림붕어빵 8개를 판매했습니다.\n",
      "현재 재고는 {'팥붕어빵': 5, '슈크림붕어빵': 10, '초코붕어빵': 15}\n",
      "초코붕어빵 4개를 판매했습니다.\n",
      "현재 재고는 {'팥붕어빵': 5, '슈크림붕어빵': 10, '초코붕어빵': 11}\n",
      "초코붕어빵 4개를 판매했습니다.\n",
      "현재 재고는 {'팥붕어빵': 5, '슈크림붕어빵': 10, '초코붕어빵': 7}\n",
      "총 매출은 36600원 입니다.\n"
     ]
    }
   ],
   "source": [
    "stock = {\n",
    "    \"팥붕어빵\" : 10,\n",
    "    \"슈크림붕어빵\" : 8,\n",
    "    \"초코붕어빵\" : 5}\n",
    "price = {\n",
    "    \"팥붕어빵\" : 1000,\n",
    "    \"슈크림붕어빵\" : 1200,\n",
    "    \"초코붕어빵\" : 1500}\n",
    "sale = {\n",
    "    \"팥붕어빵\" : 0,\n",
    "    \"슈크림붕어빵\" : 0,\n",
    "    \"초코붕어빵\" : 0}\n",
    "\n",
    "print(f\"현재 재고는 {stock}\")\n",
    "\n",
    "while True:\n",
    "    mode = input(\"모드를 골라주세요(주문, 추가, 종료) : \")\n",
    "      \n",
    "    if mode == \"종료\":\n",
    "        break\n",
    "    \n",
    "    if mode == \"주문\":\n",
    "        kind = input(\"주문할 붕어빵을 골라주세요(팥붕어빵, 슈크림붕어빵, 초코붕어빵), 끄려면 종료를 입력하세요 : \")\n",
    "        \n",
    "        if kind == \"종료\":\n",
    "            break\n",
    "        \n",
    "        count = int(input(\"주문할 갯수를 입력해주세요\"))\n",
    "        \n",
    "        if stock[kind] >= count:\n",
    "            stock[kind] -= count\n",
    "            sale[kind] += count\n",
    "            print(f\"{kind} {count}개를 판매했습니다.\")\n",
    "            \n",
    "        else:\n",
    "            print(f\"죄송합니다. {kind} 재고가 부족합니다.\")\n",
    "            \n",
    "        print(f\"현재 재고는 {stock}\")\n",
    "        \n",
    "    elif mode == \"추가\":\n",
    "        kind = input(\"추가할 붕어빵을 골라주세요(팥붕어빵, 슈크림붕어빵, 초코붕어빵), 끄려면 종료를 입력하세요 : \")\n",
    "        \n",
    "        if kind == \"종료\":\n",
    "            break\n",
    "        \n",
    "        count = int(input(\"추가할 갯수를 입력해주세요\"))\n",
    "        stock[kind] += count\n",
    "        \n",
    "        print(f\"현재 재고는 {stock}\")\n",
    "\n",
    "salesum = 0\n",
    "for i, y in sale.items():\n",
    "    salesum += price[i] * y\n",
    "    \n",
    "print(f\"총 매출은 {salesum}원 입니다.\")\n"
   ]
  }
 ],
 "metadata": {
  "colab": {
   "authorship_tag": "ABX9TyMLQjyUmELFyKkx1AyovOFZ",
   "provenance": []
  },
  "kernelspec": {
   "display_name": "Python 3",
   "name": "python3"
  },
  "language_info": {
   "codemirror_mode": {
    "name": "ipython",
    "version": 3
   },
   "file_extension": ".py",
   "mimetype": "text/x-python",
   "name": "python",
   "nbconvert_exporter": "python",
   "pygments_lexer": "ipython3",
   "version": "3.11.9"
  }
 },
 "nbformat": 4,
 "nbformat_minor": 0
}

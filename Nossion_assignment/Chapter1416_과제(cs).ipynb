{
 "cells": [
  {
   "cell_type": "markdown",
   "metadata": {
    "id": "WXEwMsfUct7U"
   },
   "source": [
    "컴퓨터 기초 지식을 의미하는 CS(Computer science)는<br>\n",
    "코딩 테스트와 함께 기술 면접에서 지원자에게 필수적으로 요구합니다.<br>\n",
    "\n",
    "수업 내용 중 기술 면접에 자주 나오는 질문 3가지와 기본적으로 알아야 할 내용 과제로 선정했습니다.<br>\n",
    "\n",
    "관련 내용에 대해서는 구글링 또는 관련 서적을 통해 상세히 공부하시고<br>\n",
    "답변은 최대한 핵심만 담아 간결하게 작성해주세요<br>\n",
    "\n",
    "기술 블로그를 운영 중이신 경우<br>\n",
    "답변 내용을 기술 블로그에 작성하신 후 링크를 답변에 남겨주셔도 됩니다.<br>"
   ]
  },
  {
   "cell_type": "markdown",
   "metadata": {
    "id": "qoyC9wF-3hvs"
   },
   "source": [
    "-----"
   ]
  },
  {
   "cell_type": "markdown",
   "metadata": {
    "id": "rAD_O3Gmc_43"
   },
   "source": [
    "[문제1]\n",
    "\n",
    "파이썬 2.7 버전과 파이썬 3에서 range 차이를 설명해주세요"
   ]
  },
  {
   "cell_type": "markdown",
   "metadata": {},
   "source": [
    "print문이 파이썬 2.7 버전에서는 print\"\"으로 사용했지만 파이썬 3 버전에서는 print()로 사용함  \n",
    "나눗셈 연산자(/)가 파이썬 2.7 버전에서는 정수 나눗셈을 했지만 파이썬 3 버전에서는 부동 소수점 나눗셈을 함  \n",
    "기본 문자열 타입이 파이썬 2.7 버전에서는 ASCII이지만 파이선 3 버전에서는 Unicode임  \n",
    "파이썬 2.7버전에서는 range()함수가 효율적이지 않아서 xrange()함수를 사용했지만 파이썬 3버전에서는 효율적으로 바뀌어서 range()함수를 사용함"
   ]
  },
  {
   "cell_type": "markdown",
   "metadata": {},
   "source": [
    "---"
   ]
  },
  {
   "cell_type": "markdown",
   "metadata": {
    "id": "3uK_auXYdgk2"
   },
   "source": [
    "[문제2]\n",
    "\n",
    "Python의 얕은 복사와 깊은 복사에 대해서 설명하세요"
   ]
  },
  {
   "cell_type": "markdown",
   "metadata": {},
   "source": [
    "얕은 복사는 copy 모듈의 copy() 함수를 사용함, 내부의 참조는 원본과 같기때문에 원본이 바뀌면 복사본도 영향을 받음  \n",
    "깊은 복사는 copy 모듈의 deepcopy() 함수를 사용함, 내부의 참조까지 복사하여 새로운 객체를 만들기때문에 원본이 바뀌어도 복사본은 영향을 받지 않음"
   ]
  }
 ],
 "metadata": {
  "colab": {
   "authorship_tag": "ABX9TyP7YKA5FdtGggYfD74V7SMJ",
   "provenance": []
  },
  "kernelspec": {
   "display_name": "Python 3",
   "name": "python3"
  },
  "language_info": {
   "name": "python"
  }
 },
 "nbformat": 4,
 "nbformat_minor": 0
}
